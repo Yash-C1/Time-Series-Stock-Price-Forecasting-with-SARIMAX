{
  "nbformat": 4,
  "nbformat_minor": 0,
  "metadata": {
    "colab": {
      "provenance": []
    },
    "kernelspec": {
      "name": "python3",
      "display_name": "Python 3"
    },
    "language_info": {
      "name": "python"
    }
  },
  "cells": [
    {
      "cell_type": "code",
      "execution_count": 1,
      "metadata": {
        "id": "hTn0X4P0HDaX"
      },
      "outputs": [],
      "source": [
        "# Import necessary libraries\n",
        "import yfinance as yf\n",
        "import pandas as pd\n",
        "import numpy as np\n",
        "import matplotlib.pyplot as plt\n",
        "from sklearn.preprocessing import MinMaxScaler\n",
        "from sklearn.metrics import mean_squared_error\n",
        "from keras.models import Sequential\n",
        "from keras.layers import LSTM, Dense, Dropout, GRU\n",
        "from keras.optimizers import SGD\n",
        "import math"
      ]
    },
    {
      "cell_type": "code",
      "source": [
        "# Import the dataset\n",
        "Google = yf.Ticker('GOOGL')\n",
        "dataset = Google.history(period='1d', start='2010-01-01', end='2023-01-01')\n",
        "dataset.drop(columns=['Open', 'High', 'Low', 'Volume', 'Dividends', 'Stock Splits'], inplace=True)"
      ],
      "metadata": {
        "id": "sR_I7MWIHUoj"
      },
      "execution_count": 2,
      "outputs": []
    },
    {
      "cell_type": "code",
      "source": [
        "dataset"
      ],
      "metadata": {
        "colab": {
          "base_uri": "https://localhost:8080/",
          "height": 455
        },
        "id": "PMakQnmsHh-G",
        "outputId": "c40a29b8-3fbe-4426-ea63-c108d5ea183b"
      },
      "execution_count": 3,
      "outputs": [
        {
          "output_type": "execute_result",
          "data": {
            "text/plain": [
              "                               Close\n",
              "Date                                \n",
              "2010-01-04 00:00:00-05:00  15.684434\n",
              "2010-01-05 00:00:00-05:00  15.615365\n",
              "2010-01-06 00:00:00-05:00  15.221722\n",
              "2010-01-07 00:00:00-05:00  14.867367\n",
              "2010-01-08 00:00:00-05:00  15.065566\n",
              "...                              ...\n",
              "2022-12-23 00:00:00-05:00  89.230003\n",
              "2022-12-27 00:00:00-05:00  87.389999\n",
              "2022-12-28 00:00:00-05:00  86.019997\n",
              "2022-12-29 00:00:00-05:00  88.449997\n",
              "2022-12-30 00:00:00-05:00  88.230003\n",
              "\n",
              "[3272 rows x 1 columns]"
            ],
            "text/html": [
              "\n",
              "  <div id=\"df-4fc211b8-509a-43b8-9c99-d0578140583d\" class=\"colab-df-container\">\n",
              "    <div>\n",
              "<style scoped>\n",
              "    .dataframe tbody tr th:only-of-type {\n",
              "        vertical-align: middle;\n",
              "    }\n",
              "\n",
              "    .dataframe tbody tr th {\n",
              "        vertical-align: top;\n",
              "    }\n",
              "\n",
              "    .dataframe thead th {\n",
              "        text-align: right;\n",
              "    }\n",
              "</style>\n",
              "<table border=\"1\" class=\"dataframe\">\n",
              "  <thead>\n",
              "    <tr style=\"text-align: right;\">\n",
              "      <th></th>\n",
              "      <th>Close</th>\n",
              "    </tr>\n",
              "    <tr>\n",
              "      <th>Date</th>\n",
              "      <th></th>\n",
              "    </tr>\n",
              "  </thead>\n",
              "  <tbody>\n",
              "    <tr>\n",
              "      <th>2010-01-04 00:00:00-05:00</th>\n",
              "      <td>15.684434</td>\n",
              "    </tr>\n",
              "    <tr>\n",
              "      <th>2010-01-05 00:00:00-05:00</th>\n",
              "      <td>15.615365</td>\n",
              "    </tr>\n",
              "    <tr>\n",
              "      <th>2010-01-06 00:00:00-05:00</th>\n",
              "      <td>15.221722</td>\n",
              "    </tr>\n",
              "    <tr>\n",
              "      <th>2010-01-07 00:00:00-05:00</th>\n",
              "      <td>14.867367</td>\n",
              "    </tr>\n",
              "    <tr>\n",
              "      <th>2010-01-08 00:00:00-05:00</th>\n",
              "      <td>15.065566</td>\n",
              "    </tr>\n",
              "    <tr>\n",
              "      <th>...</th>\n",
              "      <td>...</td>\n",
              "    </tr>\n",
              "    <tr>\n",
              "      <th>2022-12-23 00:00:00-05:00</th>\n",
              "      <td>89.230003</td>\n",
              "    </tr>\n",
              "    <tr>\n",
              "      <th>2022-12-27 00:00:00-05:00</th>\n",
              "      <td>87.389999</td>\n",
              "    </tr>\n",
              "    <tr>\n",
              "      <th>2022-12-28 00:00:00-05:00</th>\n",
              "      <td>86.019997</td>\n",
              "    </tr>\n",
              "    <tr>\n",
              "      <th>2022-12-29 00:00:00-05:00</th>\n",
              "      <td>88.449997</td>\n",
              "    </tr>\n",
              "    <tr>\n",
              "      <th>2022-12-30 00:00:00-05:00</th>\n",
              "      <td>88.230003</td>\n",
              "    </tr>\n",
              "  </tbody>\n",
              "</table>\n",
              "<p>3272 rows × 1 columns</p>\n",
              "</div>\n",
              "    <div class=\"colab-df-buttons\">\n",
              "\n",
              "  <div class=\"colab-df-container\">\n",
              "    <button class=\"colab-df-convert\" onclick=\"convertToInteractive('df-4fc211b8-509a-43b8-9c99-d0578140583d')\"\n",
              "            title=\"Convert this dataframe to an interactive table.\"\n",
              "            style=\"display:none;\">\n",
              "\n",
              "  <svg xmlns=\"http://www.w3.org/2000/svg\" height=\"24px\" viewBox=\"0 -960 960 960\">\n",
              "    <path d=\"M120-120v-720h720v720H120Zm60-500h600v-160H180v160Zm220 220h160v-160H400v160Zm0 220h160v-160H400v160ZM180-400h160v-160H180v160Zm440 0h160v-160H620v160ZM180-180h160v-160H180v160Zm440 0h160v-160H620v160Z\"/>\n",
              "  </svg>\n",
              "    </button>\n",
              "\n",
              "  <style>\n",
              "    .colab-df-container {\n",
              "      display:flex;\n",
              "      gap: 12px;\n",
              "    }\n",
              "\n",
              "    .colab-df-convert {\n",
              "      background-color: #E8F0FE;\n",
              "      border: none;\n",
              "      border-radius: 50%;\n",
              "      cursor: pointer;\n",
              "      display: none;\n",
              "      fill: #1967D2;\n",
              "      height: 32px;\n",
              "      padding: 0 0 0 0;\n",
              "      width: 32px;\n",
              "    }\n",
              "\n",
              "    .colab-df-convert:hover {\n",
              "      background-color: #E2EBFA;\n",
              "      box-shadow: 0px 1px 2px rgba(60, 64, 67, 0.3), 0px 1px 3px 1px rgba(60, 64, 67, 0.15);\n",
              "      fill: #174EA6;\n",
              "    }\n",
              "\n",
              "    .colab-df-buttons div {\n",
              "      margin-bottom: 4px;\n",
              "    }\n",
              "\n",
              "    [theme=dark] .colab-df-convert {\n",
              "      background-color: #3B4455;\n",
              "      fill: #D2E3FC;\n",
              "    }\n",
              "\n",
              "    [theme=dark] .colab-df-convert:hover {\n",
              "      background-color: #434B5C;\n",
              "      box-shadow: 0px 1px 3px 1px rgba(0, 0, 0, 0.15);\n",
              "      filter: drop-shadow(0px 1px 2px rgba(0, 0, 0, 0.3));\n",
              "      fill: #FFFFFF;\n",
              "    }\n",
              "  </style>\n",
              "\n",
              "    <script>\n",
              "      const buttonEl =\n",
              "        document.querySelector('#df-4fc211b8-509a-43b8-9c99-d0578140583d button.colab-df-convert');\n",
              "      buttonEl.style.display =\n",
              "        google.colab.kernel.accessAllowed ? 'block' : 'none';\n",
              "\n",
              "      async function convertToInteractive(key) {\n",
              "        const element = document.querySelector('#df-4fc211b8-509a-43b8-9c99-d0578140583d');\n",
              "        const dataTable =\n",
              "          await google.colab.kernel.invokeFunction('convertToInteractive',\n",
              "                                                    [key], {});\n",
              "        if (!dataTable) return;\n",
              "\n",
              "        const docLinkHtml = 'Like what you see? Visit the ' +\n",
              "          '<a target=\"_blank\" href=https://colab.research.google.com/notebooks/data_table.ipynb>data table notebook</a>'\n",
              "          + ' to learn more about interactive tables.';\n",
              "        element.innerHTML = '';\n",
              "        dataTable['output_type'] = 'display_data';\n",
              "        await google.colab.output.renderOutput(dataTable, element);\n",
              "        const docLink = document.createElement('div');\n",
              "        docLink.innerHTML = docLinkHtml;\n",
              "        element.appendChild(docLink);\n",
              "      }\n",
              "    </script>\n",
              "  </div>\n",
              "\n",
              "\n",
              "<div id=\"df-469eea4e-0f75-4590-bca6-36c387181627\">\n",
              "  <button class=\"colab-df-quickchart\" onclick=\"quickchart('df-469eea4e-0f75-4590-bca6-36c387181627')\"\n",
              "            title=\"Suggest charts\"\n",
              "            style=\"display:none;\">\n",
              "\n",
              "<svg xmlns=\"http://www.w3.org/2000/svg\" height=\"24px\"viewBox=\"0 0 24 24\"\n",
              "     width=\"24px\">\n",
              "    <g>\n",
              "        <path d=\"M19 3H5c-1.1 0-2 .9-2 2v14c0 1.1.9 2 2 2h14c1.1 0 2-.9 2-2V5c0-1.1-.9-2-2-2zM9 17H7v-7h2v7zm4 0h-2V7h2v10zm4 0h-2v-4h2v4z\"/>\n",
              "    </g>\n",
              "</svg>\n",
              "  </button>\n",
              "\n",
              "<style>\n",
              "  .colab-df-quickchart {\n",
              "      --bg-color: #E8F0FE;\n",
              "      --fill-color: #1967D2;\n",
              "      --hover-bg-color: #E2EBFA;\n",
              "      --hover-fill-color: #174EA6;\n",
              "      --disabled-fill-color: #AAA;\n",
              "      --disabled-bg-color: #DDD;\n",
              "  }\n",
              "\n",
              "  [theme=dark] .colab-df-quickchart {\n",
              "      --bg-color: #3B4455;\n",
              "      --fill-color: #D2E3FC;\n",
              "      --hover-bg-color: #434B5C;\n",
              "      --hover-fill-color: #FFFFFF;\n",
              "      --disabled-bg-color: #3B4455;\n",
              "      --disabled-fill-color: #666;\n",
              "  }\n",
              "\n",
              "  .colab-df-quickchart {\n",
              "    background-color: var(--bg-color);\n",
              "    border: none;\n",
              "    border-radius: 50%;\n",
              "    cursor: pointer;\n",
              "    display: none;\n",
              "    fill: var(--fill-color);\n",
              "    height: 32px;\n",
              "    padding: 0;\n",
              "    width: 32px;\n",
              "  }\n",
              "\n",
              "  .colab-df-quickchart:hover {\n",
              "    background-color: var(--hover-bg-color);\n",
              "    box-shadow: 0 1px 2px rgba(60, 64, 67, 0.3), 0 1px 3px 1px rgba(60, 64, 67, 0.15);\n",
              "    fill: var(--button-hover-fill-color);\n",
              "  }\n",
              "\n",
              "  .colab-df-quickchart-complete:disabled,\n",
              "  .colab-df-quickchart-complete:disabled:hover {\n",
              "    background-color: var(--disabled-bg-color);\n",
              "    fill: var(--disabled-fill-color);\n",
              "    box-shadow: none;\n",
              "  }\n",
              "\n",
              "  .colab-df-spinner {\n",
              "    border: 2px solid var(--fill-color);\n",
              "    border-color: transparent;\n",
              "    border-bottom-color: var(--fill-color);\n",
              "    animation:\n",
              "      spin 1s steps(1) infinite;\n",
              "  }\n",
              "\n",
              "  @keyframes spin {\n",
              "    0% {\n",
              "      border-color: transparent;\n",
              "      border-bottom-color: var(--fill-color);\n",
              "      border-left-color: var(--fill-color);\n",
              "    }\n",
              "    20% {\n",
              "      border-color: transparent;\n",
              "      border-left-color: var(--fill-color);\n",
              "      border-top-color: var(--fill-color);\n",
              "    }\n",
              "    30% {\n",
              "      border-color: transparent;\n",
              "      border-left-color: var(--fill-color);\n",
              "      border-top-color: var(--fill-color);\n",
              "      border-right-color: var(--fill-color);\n",
              "    }\n",
              "    40% {\n",
              "      border-color: transparent;\n",
              "      border-right-color: var(--fill-color);\n",
              "      border-top-color: var(--fill-color);\n",
              "    }\n",
              "    60% {\n",
              "      border-color: transparent;\n",
              "      border-right-color: var(--fill-color);\n",
              "    }\n",
              "    80% {\n",
              "      border-color: transparent;\n",
              "      border-right-color: var(--fill-color);\n",
              "      border-bottom-color: var(--fill-color);\n",
              "    }\n",
              "    90% {\n",
              "      border-color: transparent;\n",
              "      border-bottom-color: var(--fill-color);\n",
              "    }\n",
              "  }\n",
              "</style>\n",
              "\n",
              "  <script>\n",
              "    async function quickchart(key) {\n",
              "      const quickchartButtonEl =\n",
              "        document.querySelector('#' + key + ' button');\n",
              "      quickchartButtonEl.disabled = true;  // To prevent multiple clicks.\n",
              "      quickchartButtonEl.classList.add('colab-df-spinner');\n",
              "      try {\n",
              "        const charts = await google.colab.kernel.invokeFunction(\n",
              "            'suggestCharts', [key], {});\n",
              "      } catch (error) {\n",
              "        console.error('Error during call to suggestCharts:', error);\n",
              "      }\n",
              "      quickchartButtonEl.classList.remove('colab-df-spinner');\n",
              "      quickchartButtonEl.classList.add('colab-df-quickchart-complete');\n",
              "    }\n",
              "    (() => {\n",
              "      let quickchartButtonEl =\n",
              "        document.querySelector('#df-469eea4e-0f75-4590-bca6-36c387181627 button');\n",
              "      quickchartButtonEl.style.display =\n",
              "        google.colab.kernel.accessAllowed ? 'block' : 'none';\n",
              "    })();\n",
              "  </script>\n",
              "</div>\n",
              "\n",
              "  <div id=\"id_617c1a5c-d650-4126-9507-1cad80f05b36\">\n",
              "    <style>\n",
              "      .colab-df-generate {\n",
              "        background-color: #E8F0FE;\n",
              "        border: none;\n",
              "        border-radius: 50%;\n",
              "        cursor: pointer;\n",
              "        display: none;\n",
              "        fill: #1967D2;\n",
              "        height: 32px;\n",
              "        padding: 0 0 0 0;\n",
              "        width: 32px;\n",
              "      }\n",
              "\n",
              "      .colab-df-generate:hover {\n",
              "        background-color: #E2EBFA;\n",
              "        box-shadow: 0px 1px 2px rgba(60, 64, 67, 0.3), 0px 1px 3px 1px rgba(60, 64, 67, 0.15);\n",
              "        fill: #174EA6;\n",
              "      }\n",
              "\n",
              "      [theme=dark] .colab-df-generate {\n",
              "        background-color: #3B4455;\n",
              "        fill: #D2E3FC;\n",
              "      }\n",
              "\n",
              "      [theme=dark] .colab-df-generate:hover {\n",
              "        background-color: #434B5C;\n",
              "        box-shadow: 0px 1px 3px 1px rgba(0, 0, 0, 0.15);\n",
              "        filter: drop-shadow(0px 1px 2px rgba(0, 0, 0, 0.3));\n",
              "        fill: #FFFFFF;\n",
              "      }\n",
              "    </style>\n",
              "    <button class=\"colab-df-generate\" onclick=\"generateWithVariable('dataset')\"\n",
              "            title=\"Generate code using this dataframe.\"\n",
              "            style=\"display:none;\">\n",
              "\n",
              "  <svg xmlns=\"http://www.w3.org/2000/svg\" height=\"24px\"viewBox=\"0 0 24 24\"\n",
              "       width=\"24px\">\n",
              "    <path d=\"M7,19H8.4L18.45,9,17,7.55,7,17.6ZM5,21V16.75L18.45,3.32a2,2,0,0,1,2.83,0l1.4,1.43a1.91,1.91,0,0,1,.58,1.4,1.91,1.91,0,0,1-.58,1.4L9.25,21ZM18.45,9,17,7.55Zm-12,3A5.31,5.31,0,0,0,4.9,8.1,5.31,5.31,0,0,0,1,6.5,5.31,5.31,0,0,0,4.9,4.9,5.31,5.31,0,0,0,6.5,1,5.31,5.31,0,0,0,8.1,4.9,5.31,5.31,0,0,0,12,6.5,5.46,5.46,0,0,0,6.5,12Z\"/>\n",
              "  </svg>\n",
              "    </button>\n",
              "    <script>\n",
              "      (() => {\n",
              "      const buttonEl =\n",
              "        document.querySelector('#id_617c1a5c-d650-4126-9507-1cad80f05b36 button.colab-df-generate');\n",
              "      buttonEl.style.display =\n",
              "        google.colab.kernel.accessAllowed ? 'block' : 'none';\n",
              "\n",
              "      buttonEl.onclick = () => {\n",
              "        google.colab.notebook.generateWithVariable('dataset');\n",
              "      }\n",
              "      })();\n",
              "    </script>\n",
              "  </div>\n",
              "\n",
              "    </div>\n",
              "  </div>\n"
            ]
          },
          "metadata": {},
          "execution_count": 3
        }
      ]
    },
    {
      "cell_type": "code",
      "source": [
        "\n",
        "# Function to assist\n",
        "def plot_predictions(test, predicted):\n",
        "    plt.plot(test, color='red', label='Real Google Stock Price')\n",
        "    plt.plot(predicted, color='blue', label='Predicted Google Stock Price')\n",
        "    plt.title('Google Stock Price Prediction')\n",
        "    plt.xlabel('Time')\n",
        "    plt.ylabel('Google Stock Price')\n",
        "    plt.legend()\n",
        "    plt.show()\n",
        "\n",
        "def return_rmse(test, predicted):\n",
        "    rmse = math.sqrt(mean_squared_error(test, predicted))\n",
        "    print(\"The root mean squared error is {}.\".format(rmse))"
      ],
      "metadata": {
        "id": "-zT8Z3UtHlJ_"
      },
      "execution_count": 4,
      "outputs": []
    },
    {
      "cell_type": "code",
      "source": [
        "# Extracting relevant data for training and testing\n",
        "training_set = dataset[:'2020'].iloc[:, 0:1].values\n",
        "test_set = dataset['2021':].iloc[:, 0:1].values"
      ],
      "metadata": {
        "id": "wOYur9WEHpIA"
      },
      "execution_count": 5,
      "outputs": []
    },
    {
      "cell_type": "code",
      "source": [
        "print(training_set.size)\n",
        "print(test_set.size)"
      ],
      "metadata": {
        "colab": {
          "base_uri": "https://localhost:8080/"
        },
        "id": "yU6J_e9GHstI",
        "outputId": "2ce2bcc6-1400-4651-965e-f515514809eb"
      },
      "execution_count": 6,
      "outputs": [
        {
          "output_type": "stream",
          "name": "stdout",
          "text": [
            "2769\n",
            "503\n"
          ]
        }
      ]
    },
    {
      "cell_type": "code",
      "source": [
        "# Visualizing the dataset\n",
        "dataset['Close'][:'2020'].plot(figsize=(16, 4), legend=True)\n",
        "dataset['Close']['2020':].plot(figsize=(16, 4), legend=True)\n",
        "plt.legend(['Training set (before 2020)', 'Test set (2020 and beyond)'])\n",
        "plt.title('Google stock price')\n",
        "plt.show()\n"
      ],
      "metadata": {
        "colab": {
          "base_uri": "https://localhost:8080/",
          "height": 374
        },
        "id": "ggJekJfrHxvi",
        "outputId": "1e47383a-9c3b-438d-c4ca-df26f767d8c2"
      },
      "execution_count": 7,
      "outputs": [
        {
          "output_type": "display_data",
          "data": {
            "text/plain": [
              "<Figure size 1600x400 with 1 Axes>"
            ],
            "image/png": "[encoded data removed]"
          },
          "metadata": {}
        }
      ]
    },
    {
      "cell_type": "code",
      "source": [
        "# Scaling the Training set\n",
        "sc = MinMaxScaler(feature_range=(0, 1))\n",
        "training_set_scaled = sc.fit_transform(training_set)"
      ],
      "metadata": {
        "id": "5SXCN_qqH1Jp"
      },
      "execution_count": 8,
      "outputs": []
    },
    {
      "cell_type": "code",
      "source": [
        "# Creating input sequences for LSTM\n",
        "X_train = []\n",
        "y_train = []\n",
        "\n",
        "for i in range(60, training_set.size):\n",
        "    X_train.append(training_set_scaled[i-60:i, 0])\n",
        "    y_train.append(training_set_scaled[i, 0])\n",
        "\n",
        "X_train, y_train = np.array(X_train), np.array(y_train)\n",
        "\n",
        "# Reshaping X_train for efficient modelling\n",
        "X_train = np.reshape(X_train, (X_train.shape[0], X_train.shape[1], 1))"
      ],
      "metadata": {
        "id": "rs40ynyLH6Db"
      },
      "execution_count": 9,
      "outputs": []
    },
    {
      "cell_type": "code",
      "source": [
        "X_train.shape"
      ],
      "metadata": {
        "colab": {
          "base_uri": "https://localhost:8080/"
        },
        "id": "JPuvs8EhH_YO",
        "outputId": "199cf5a6-f386-4cba-c529-c110593f4bd9"
      },
      "execution_count": 10,
      "outputs": [
        {
          "output_type": "execute_result",
          "data": {
            "text/plain": [
              "(2709, 60, 1)"
            ]
          },
          "metadata": {},
          "execution_count": 10
        }
      ]
    },
    {
      "cell_type": "code",
      "source": [
        "# The GRU architecture\n",
        "regressorGRU = Sequential()\n",
        "# First GRU layer with Dropout regularisation\n",
        "regressorGRU.add(GRU(units=100, return_sequences=True, input_shape=(X_train.shape[1],1), activation='tanh'))\n",
        "regressorGRU.add(Dropout(0.2))\n",
        "# Second GRU layer\n",
        "regressorGRU.add(GRU(units=100, return_sequences=True, input_shape=(X_train.shape[1],1), activation='tanh'))\n",
        "regressorGRU.add(Dropout(0.2))\n",
        "# Third GRU layer\n",
        "regressorGRU.add(GRU(units=100, return_sequences=True, input_shape=(X_train.shape[1],1), activation='tanh'))\n",
        "regressorGRU.add(Dropout(0.2))\n",
        "# Fourth GRU layer\n",
        "regressorGRU.add(GRU(units=100, activation='tanh'))\n",
        "regressorGRU.add(Dropout(0.2))\n",
        "# The output layer\n",
        "regressorGRU.add(Dense(units=1))"
      ],
      "metadata": {
        "id": "VzZpsrD2IC2k"
      },
      "execution_count": 11,
      "outputs": []
    },
    {
      "cell_type": "code",
      "source": [
        "# Compiling the RNN\n",
        "regressorGRU.compile(optimizer=SGD(learning_rate=0.01, momentum=0.9, nesterov=False),loss='mean_squared_error')\n",
        "regressorGRU.summary()"
      ],
      "metadata": {
        "colab": {
          "base_uri": "https://localhost:8080/"
        },
        "id": "1Z_jax3WIunX",
        "outputId": "5d0e4aa4-a8bf-4209-cdbf-cc0ff2240eea"
      },
      "execution_count": 12,
      "outputs": [
        {
          "output_type": "stream",
          "name": "stdout",
          "text": [
            "Model: \"sequential\"\n",
            "_________________________________________________________________\n",
            " Layer (type)                Output Shape              Param #   \n",
            "=================================================================\n",
            " gru (GRU)                   (None, 60, 100)           30900     \n",
            "                                                                 \n",
            " dropout (Dropout)           (None, 60, 100)           0         \n",
            "                                                                 \n",
            " gru_1 (GRU)                 (None, 60, 100)           60600     \n",
            "                                                                 \n",
            " dropout_1 (Dropout)         (None, 60, 100)           0         \n",
            "                                                                 \n",
            " gru_2 (GRU)                 (None, 60, 100)           60600     \n",
            "                                                                 \n",
            " dropout_2 (Dropout)         (None, 60, 100)           0         \n",
            "                                                                 \n",
            " gru_3 (GRU)                 (None, 100)               60600     \n",
            "                                                                 \n",
            " dropout_3 (Dropout)         (None, 100)               0         \n",
            "                                                                 \n",
            " dense (Dense)               (None, 1)                 101       \n",
            "                                                                 \n",
            "=================================================================\n",
            "Total params: 212801 (831.25 KB)\n",
            "Trainable params: 212801 (831.25 KB)\n",
            "Non-trainable params: 0 (0.00 Byte)\n",
            "_________________________________________________________________\n"
          ]
        }
      ]
    },
    {
      "cell_type": "code",
      "source": [
        "# Fitting to the training set\n",
        "regressorGRU.fit(X_train,y_train,epochs=50,batch_size=150)"
      ],
      "metadata": {
        "colab": {
          "base_uri": "https://localhost:8080/"
        },
        "id": "NJ9NFMkhI11t",
        "outputId": "cf22e5e9-5a8e-42e6-881f-e7d55e7e6e87"
      },
      "execution_count": 13,
      "outputs": [
        {
          "output_type": "stream",
          "name": "stdout",
          "text": [
            "Epoch 1/50\n",
            "19/19 [==============================] - 27s 591ms/step - loss: 0.0827\n",
            "Epoch 2/50\n",
            "19/19 [==============================] - 11s 591ms/step - loss: 0.0239\n",
            "Epoch 3/50\n",
            "19/19 [==============================] - 11s 591ms/step - loss: 0.0041\n",
            "Epoch 4/50\n",
            "19/19 [==============================] - 10s 543ms/step - loss: 0.0021\n",
            "Epoch 5/50\n",
            "19/19 [==============================] - 10s 514ms/step - loss: 0.0017\n",
            "Epoch 6/50\n",
            "19/19 [==============================] - 11s 587ms/step - loss: 0.0016\n",
            "Epoch 7/50\n",
            "19/19 [==============================] - 11s 587ms/step - loss: 0.0016\n",
            "Epoch 8/50\n",
            "19/19 [==============================] - 12s 646ms/step - loss: 0.0016\n",
            "Epoch 9/50\n",
            "19/19 [==============================] - 11s 556ms/step - loss: 0.0014\n",
            "Epoch 10/50\n",
            "19/19 [==============================] - 10s 512ms/step - loss: 0.0014\n",
            "Epoch 11/50\n",
            "19/19 [==============================] - 11s 588ms/step - loss: 0.0014\n",
            "Epoch 12/50\n",
            "19/19 [==============================] - 11s 585ms/step - loss: 0.0013\n",
            "Epoch 13/50\n",
            "19/19 [==============================] - 11s 588ms/step - loss: 0.0013\n",
            "Epoch 14/50\n",
            "19/19 [==============================] - 10s 500ms/step - loss: 0.0014\n",
            "Epoch 15/50\n",
            "19/19 [==============================] - 11s 564ms/step - loss: 0.0012\n",
            "Epoch 16/50\n",
            "19/19 [==============================] - 11s 585ms/step - loss: 0.0012\n",
            "Epoch 17/50\n",
            "19/19 [==============================] - 11s 589ms/step - loss: 0.0013\n",
            "Epoch 18/50\n",
            "19/19 [==============================] - 14s 726ms/step - loss: 0.0012\n",
            "Epoch 19/50\n",
            "19/19 [==============================] - 11s 568ms/step - loss: 0.0011\n",
            "Epoch 20/50\n",
            "19/19 [==============================] - 10s 497ms/step - loss: 0.0013\n",
            "Epoch 21/50\n",
            "19/19 [==============================] - 11s 585ms/step - loss: 0.0011\n",
            "Epoch 22/50\n",
            "19/19 [==============================] - 11s 588ms/step - loss: 0.0011\n",
            "Epoch 23/50\n",
            "19/19 [==============================] - 11s 586ms/step - loss: 0.0011\n",
            "Epoch 24/50\n",
            "19/19 [==============================] - 10s 524ms/step - loss: 0.0011\n",
            "Epoch 25/50\n",
            "19/19 [==============================] - 11s 541ms/step - loss: 0.0012\n",
            "Epoch 26/50\n",
            "19/19 [==============================] - 11s 588ms/step - loss: 0.0012\n",
            "Epoch 27/50\n",
            "19/19 [==============================] - 11s 586ms/step - loss: 0.0011\n",
            "Epoch 28/50\n",
            "19/19 [==============================] - 11s 588ms/step - loss: 0.0011\n",
            "Epoch 29/50\n",
            "19/19 [==============================] - 10s 498ms/step - loss: 0.0012\n",
            "Epoch 30/50\n",
            "19/19 [==============================] - 11s 579ms/step - loss: 0.0010\n",
            "Epoch 31/50\n",
            "19/19 [==============================] - 11s 588ms/step - loss: 0.0011\n",
            "Epoch 32/50\n",
            "19/19 [==============================] - 11s 588ms/step - loss: 0.0011\n",
            "Epoch 33/50\n",
            "19/19 [==============================] - 10s 541ms/step - loss: 0.0011\n",
            "Epoch 34/50\n",
            "19/19 [==============================] - 10s 516ms/step - loss: 0.0011\n",
            "Epoch 35/50\n",
            "19/19 [==============================] - 11s 584ms/step - loss: 0.0011\n",
            "Epoch 36/50\n",
            "19/19 [==============================] - 11s 588ms/step - loss: 0.0010\n",
            "Epoch 37/50\n",
            "19/19 [==============================] - 11s 590ms/step - loss: 9.8749e-04\n",
            "Epoch 38/50\n",
            "19/19 [==============================] - 10s 502ms/step - loss: 0.0010\n",
            "Epoch 39/50\n",
            "19/19 [==============================] - 11s 562ms/step - loss: 0.0011\n",
            "Epoch 40/50\n",
            "19/19 [==============================] - 11s 590ms/step - loss: 0.0011\n",
            "Epoch 41/50\n",
            "19/19 [==============================] - 11s 590ms/step - loss: 9.5028e-04\n",
            "Epoch 42/50\n",
            "19/19 [==============================] - 11s 585ms/step - loss: 9.9363e-04\n",
            "Epoch 43/50\n",
            "19/19 [==============================] - 10s 494ms/step - loss: 0.0011\n",
            "Epoch 44/50\n",
            "19/19 [==============================] - 11s 591ms/step - loss: 0.0010\n",
            "Epoch 45/50\n",
            "19/19 [==============================] - 11s 590ms/step - loss: 0.0010\n",
            "Epoch 46/50\n",
            "19/19 [==============================] - 11s 589ms/step - loss: 9.9624e-04\n",
            "Epoch 47/50\n",
            "19/19 [==============================] - 13s 703ms/step - loss: 9.5265e-04\n",
            "Epoch 48/50\n",
            "19/19 [==============================] - 10s 548ms/step - loss: 0.0011\n",
            "Epoch 49/50\n",
            "19/19 [==============================] - 10s 522ms/step - loss: 9.9788e-04\n",
            "Epoch 50/50\n",
            "19/19 [==============================] - 11s 587ms/step - loss: 9.2861e-04\n"
          ]
        },
        {
          "output_type": "execute_result",
          "data": {
            "text/plain": [
              "<keras.src.callbacks.History at 0x7e015dc97310>"
            ]
          },
          "metadata": {},
          "execution_count": 13
        }
      ]
    },
    {
      "cell_type": "code",
      "source": [
        "# Preparing the test set\n",
        "dataset_total = pd.concat((dataset[\"Close\"][:'2020'], dataset[\"Close\"]['2021':]), axis=0)\n",
        "inputs = dataset_total[len(dataset_total) - len(test_set) - 60:].values\n",
        "inputs = inputs.reshape(-1, 1)\n",
        "inputs = sc.transform(inputs)\n",
        "\n",
        "print(inputs.shape[0])\n"
      ],
      "metadata": {
        "colab": {
          "base_uri": "https://localhost:8080/"
        },
        "id": "XPD7D_0jI_Fd",
        "outputId": "c9a5b990-9b9c-4dae-832b-f29ff27127c3"
      },
      "execution_count": 14,
      "outputs": [
        {
          "output_type": "stream",
          "name": "stdout",
          "text": [
            "563\n"
          ]
        }
      ]
    },
    {
      "cell_type": "code",
      "source": [
        "X_test = []\n",
        "\n",
        "for i in range(60, inputs.shape[0]):\n",
        "    X_test.append(inputs[i-60:i, 0])\n",
        "\n",
        "X_test = np.array(X_test)\n",
        "X_test = np.reshape(X_test, (X_test.shape[0], X_test.shape[1], 1))"
      ],
      "metadata": {
        "id": "wVUFCoWBJsF3"
      },
      "execution_count": 15,
      "outputs": []
    },
    {
      "cell_type": "code",
      "source": [
        "GRU_predicted_stock_price = regressorGRU.predict(X_test)\n",
        "GRU_predicted_stock_price = sc.inverse_transform(GRU_predicted_stock_price)"
      ],
      "metadata": {
        "colab": {
          "base_uri": "https://localhost:8080/"
        },
        "id": "LBhZ59QkKBm6",
        "outputId": "c8796f97-dd62-410d-dbb8-fc610af8cf52"
      },
      "execution_count": 16,
      "outputs": [
        {
          "output_type": "stream",
          "name": "stdout",
          "text": [
            "16/16 [==============================] - 3s 67ms/step\n"
          ]
        }
      ]
    },
    {
      "cell_type": "code",
      "source": [
        "# Visualizing the results for GRU\n",
        "plot_predictions(test_set,GRU_predicted_stock_price)"
      ],
      "metadata": {
        "colab": {
          "base_uri": "https://localhost:8080/",
          "height": 472
        },
        "id": "3IiCSjFFKLzm",
        "outputId": "681c5db9-9980-4899-9c25-c6ae1ac398e4"
      },
      "execution_count": 17,
      "outputs": [
        {
          "output_type": "display_data",
          "data": {
            "text/plain": [
              "<Figure size 640x480 with 1 Axes>"
            ],
            "image/png": "[encoded data removed]"
          },
          "metadata": {}
        }
      ]
    },
    {
      "cell_type": "code",
      "source": [
        "# Evaluating GRU\n",
        "return_rmse(test_set,GRU_predicted_stock_price)"
      ],
      "metadata": {
        "colab": {
          "base_uri": "https://localhost:8080/"
        },
        "id": "TGTGFw7pKQFu",
        "outputId": "4367d7e8-60ca-435e-e39e-aa153c4ad518"
      },
      "execution_count": 18,
      "outputs": [
        {
          "output_type": "stream",
          "name": "stdout",
          "text": [
            "The root mean squared error is 5.53500307792424.\n"
          ]
        }
      ]
    },
    {
      "cell_type": "code",
      "source": [],
      "metadata": {
        "id": "Vyzf2LX-KS1F"
      },
      "execution_count": 18,
      "outputs": []
    }
  ]
}